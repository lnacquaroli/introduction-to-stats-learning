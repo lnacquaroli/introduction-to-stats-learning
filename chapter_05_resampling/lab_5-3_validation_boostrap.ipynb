{
 "cells": [
  {
   "cell_type": "markdown",
   "source": [
    "# 5.3 Lab: Cross-Validation and the Bootstrap\n",
    "\n",
    "In this lab, we explore the resampling techniques covered in this chapter. \n",
    "**Some of the commands in this lab may take a while to run on your computer.**\n",
    "\n",
    "## 5.3.1 The Validation Set Approach\n",
    "\n",
    "We explore the use of the validation set approach in order to estimate the test error rates that result from fitting various linear models on the `Auto` data set.\n",
    "\n",
    "Before we begin, we use the `set.seed()` function in order to set a seed for seed `R`'s random number generator, so that the reader of this book will obtain precisely the same results as those shown below. \n",
    "It is generally a good idea to set a random seed when performing an analysis such as cross-validation that contains an element of randomness, so that the results obtained can be reproduced precisely at a later time.\n",
    "\n",
    "We begin by using the `sample()` function to split the set of observations into two halves, by selecting a random subset of 196 observations out of `sample()` the original 392 observations. \n",
    "We refer to these observations as the training set."
   ],
   "metadata": {}
  },
  {
   "cell_type": "code",
   "execution_count": 1,
   "source": [
    "library(ISLR2)\n",
    "library(MASS)\n",
    "library(ggplot2)\n",
    "library(ggthemes)"
   ],
   "outputs": [
    {
     "output_type": "stream",
     "name": "stderr",
     "text": [
      "\n",
      "Attaching package: ‘MASS’\n",
      "\n",
      "\n",
      "The following object is masked from ‘package:ISLR2’:\n",
      "\n",
      "    Boston\n",
      "\n",
      "\n"
     ]
    }
   ],
   "metadata": {}
  },
  {
   "cell_type": "code",
   "execution_count": 3,
   "source": [
    "# Define a color cycle to use\n",
    "colors <- colorblind_pal()(8)"
   ],
   "outputs": [],
   "metadata": {}
  },
  {
   "cell_type": "code",
   "execution_count": 9,
   "source": [
    "Auto <- na.omit(Auto)"
   ],
   "outputs": [],
   "metadata": {}
  },
  {
   "cell_type": "code",
   "execution_count": 4,
   "source": [
    "set.seed(1)\n",
    "train <- sample(392, 196)"
   ],
   "outputs": [],
   "metadata": {}
  },
  {
   "cell_type": "markdown",
   "source": [
    "(Here we use a shortcut in the sample command; see `?sample` for details.) \n",
    "We then use the `subset` option in `lm()` to fit a linear regression using only the observations corresponding to the training set."
   ],
   "metadata": {}
  },
  {
   "cell_type": "code",
   "execution_count": 10,
   "source": [
    "lm_fit <- lm(mpg ~ horsepower, data = Auto, subset = train)"
   ],
   "outputs": [],
   "metadata": {}
  },
  {
   "cell_type": "markdown",
   "source": [
    "We now use the `predict()` function to estimate the response for all 392 observations, and we use the `mean()` function to calculate the MSE of the 196 observations in the validation set. \n",
    "Note that the `-train` index below selects only the observations that are not in the training set."
   ],
   "metadata": {}
  },
  {
   "cell_type": "code",
   "execution_count": 11,
   "source": [
    "mean((Auto$mpg - predict(lm_fit, Auto))[-train]^2)"
   ],
   "outputs": [
    {
     "output_type": "display_data",
     "data": {
      "text/html": [
       "23.2660086465003"
      ],
      "text/latex": [
       "23.2660086465003"
      ],
      "text/markdown": [
       "23.2660086465003"
      ],
      "text/plain": [
       "[1] 23.26601"
      ]
     },
     "metadata": {}
    }
   ],
   "metadata": {}
  },
  {
   "cell_type": "markdown",
   "source": [
    "Therefore, the estimated test MSE for the linear regression fit is 23.27. \n",
    "We can use the `poly()` function to estimate the test error for the quadratic and cubic regressions."
   ],
   "metadata": {}
  },
  {
   "cell_type": "code",
   "execution_count": 12,
   "source": [
    "lm_fit_2 <- lm(mpg ~ poly(horsepower, 2), data = Auto, subset = train)\n",
    "mean((Auto$mpg - predict(lm_fit_2, Auto))[-train]^2)"
   ],
   "outputs": [
    {
     "output_type": "display_data",
     "data": {
      "text/html": [
       "18.7164594933828"
      ],
      "text/latex": [
       "18.7164594933828"
      ],
      "text/markdown": [
       "18.7164594933828"
      ],
      "text/plain": [
       "[1] 18.71646"
      ]
     },
     "metadata": {}
    }
   ],
   "metadata": {}
  },
  {
   "cell_type": "code",
   "execution_count": 13,
   "source": [
    "lm_fit_3 <- lm(mpg ~ poly(horsepower, 3), data = Auto, subset = train)\n",
    "mean((Auto$mpg - predict(lm_fit_3, Auto))[-train]^2)"
   ],
   "outputs": [
    {
     "output_type": "display_data",
     "data": {
      "text/html": [
       "18.7940067973945"
      ],
      "text/latex": [
       "18.7940067973945"
      ],
      "text/markdown": [
       "18.7940067973945"
      ],
      "text/plain": [
       "[1] 18.79401"
      ]
     },
     "metadata": {}
    }
   ],
   "metadata": {}
  },
  {
   "cell_type": "markdown",
   "source": [
    "These error rates are 18.72 and 18.79, respectively. \n",
    "If we choose a different training set instead, then we will obtain somewhat different errors on the validation set."
   ],
   "metadata": {}
  },
  {
   "cell_type": "code",
   "execution_count": 14,
   "source": [
    "set.seed (2)\n",
    "train <- sample(392, 196)\n",
    "\n",
    "lm_fit <- lm(mpg ~ horsepower, data = Auto, subset = train)\n",
    "mean((Auto$mpg - predict(lm_fit, Auto))[-train]^2)\n",
    "\n",
    "lm_fit_2 <- lm(mpg ~ poly(horsepower, 2), data = Auto, subset = train)\n",
    "mean((Auto$mpg - predict(lm_fit_2, Auto))[-train]^2)\n",
    "\n",
    "lm_fit_3 <- lm(mpg ~ poly(horsepower, 3), data = Auto, subset = train)\n",
    "mean((Auto$mpg - predict(lm_fit_3, Auto))[-train]^2)"
   ],
   "outputs": [
    {
     "output_type": "display_data",
     "data": {
      "text/html": [
       "25.7265106448139"
      ],
      "text/latex": [
       "25.7265106448139"
      ],
      "text/markdown": [
       "25.7265106448139"
      ],
      "text/plain": [
       "[1] 25.72651"
      ]
     },
     "metadata": {}
    },
    {
     "output_type": "display_data",
     "data": {
      "text/html": [
       "20.4303642741464"
      ],
      "text/latex": [
       "20.4303642741464"
      ],
      "text/markdown": [
       "20.4303642741464"
      ],
      "text/plain": [
       "[1] 20.43036"
      ]
     },
     "metadata": {}
    },
    {
     "output_type": "display_data",
     "data": {
      "text/html": [
       "20.3853268638776"
      ],
      "text/latex": [
       "20.3853268638776"
      ],
      "text/markdown": [
       "20.3853268638776"
      ],
      "text/plain": [
       "[1] 20.38533"
      ]
     },
     "metadata": {}
    }
   ],
   "metadata": {}
  },
  {
   "cell_type": "markdown",
   "source": [
    "Using this split of the observations into a training set and a validation set, we find that the validation set error rates for the models with linear, quadratic, and cubic terms are 25.73, 20.43, and 20.39, respectively.\n",
    "\n",
    "These results are consistent with our previous findings: a model that predicts `mpg` using a quadratic function of `horsepower` performs better than a model that involves only a linear function of `horsepower`, and there is little evidence in favor of a model that uses a cubic function of `horsepower`.\n",
    "\n",
    "## 5.3.2 Leave-One-Out Cross-Validation\n",
    "\n",
    "The LOOCV estimate can be automatically computed for any generalized linear model using the `glm()` and `cv.glm()` functions. \n",
    "In the lab for Chapter 4, we used the `glm()` function to perform logistic regression by passing in the `family = \"binomial\"` argument. \n",
    "But if we use `glm()` to fit a model without passing in the family argument, then it performs linear regression, just like the `lm()` function. \n",
    "So for instance,"
   ],
   "metadata": {}
  },
  {
   "cell_type": "code",
   "execution_count": 17,
   "source": [
    "glm_fit <- glm(mpg ~ horsepower, data = Auto)\n",
    "print(coef(glm_fit))\n",
    "\n",
    "lm_fit <- lm(mpg ~ horsepower, data = Auto)\n",
    "print(coef(lm_fit))"
   ],
   "outputs": [
    {
     "output_type": "stream",
     "name": "stdout",
     "text": [
      "(Intercept)  horsepower \n",
      " 39.9358610  -0.1578447 \n",
      "(Intercept)  horsepower \n",
      " 39.9358610  -0.1578447 \n"
     ]
    }
   ],
   "metadata": {}
  },
  {
   "cell_type": "markdown",
   "source": [
    "yield identical linear regression models. \n",
    "In this lab, we will perform linear regression using the `glm()` function rather than the `lm()` function because the former can be used together with `cv.glm()`. \n",
    "The `cv.glm()` function is part of the boot library."
   ],
   "metadata": {}
  },
  {
   "cell_type": "code",
   "execution_count": 18,
   "source": [
    "library(boot) # cv.glm"
   ],
   "outputs": [],
   "metadata": {}
  },
  {
   "cell_type": "code",
   "execution_count": 28,
   "source": [
    "glm_fit <- glm(mpg ~ horsepower, data = Auto)\n",
    "cv_error <- cv.glm(Auto, glm_fit)\n",
    "cv_error$delta"
   ],
   "outputs": [
    {
     "output_type": "display_data",
     "data": {
      "text/html": [
       "<style>\n",
       ".list-inline {list-style: none; margin:0; padding: 0}\n",
       ".list-inline>li {display: inline-block}\n",
       ".list-inline>li:not(:last-child)::after {content: \"\\00b7\"; padding: 0 .5ex}\n",
       "</style>\n",
       "<ol class=list-inline><li>24.2315135179292</li><li>24.2311440937562</li></ol>\n"
      ],
      "text/latex": [
       "\\begin{enumerate*}\n",
       "\\item 24.2315135179292\n",
       "\\item 24.2311440937562\n",
       "\\end{enumerate*}\n"
      ],
      "text/markdown": [
       "1. 24.2315135179292\n",
       "2. 24.2311440937562\n",
       "\n",
       "\n"
      ],
      "text/plain": [
       "[1] 24.23151 24.23114"
      ]
     },
     "metadata": {}
    }
   ],
   "metadata": {}
  },
  {
   "cell_type": "markdown",
   "source": [
    "The `cv.glm()` function produces a list with several components. \n",
    "The two numbers in the `delta` vector contain the cross-validation results. \n",
    "In this case the numbers are identical (up to two decimal places) and correspond to the LOOCV statistic given in (5.1). \n",
    "Below, we discuss a situation in which the two numbers differ. \n",
    "Our cross-validation estimate for the test error is approximately 24.23.\n",
    "\n",
    "We can repeat this procedure for increasingly complex polynomial fits. \n",
    "To automate the process, we use the `for()` function to initiate a for loop which iteratively fits polynomial regressions for polynomials of order $i = 1$ to $i = 10$, **computes the associated cross-validation error, and stores it in the $i$-th element of the vector `cv_error`**. \n",
    "We begin by initializing the vector."
   ],
   "metadata": {}
  },
  {
   "cell_type": "code",
   "execution_count": 23,
   "source": [
    "# LOOCV\n",
    "cv_error <- numeric(length(10))\n",
    "for (i in seq(10)) {\n",
    "    glm_fit <- glm(mpg ~ poly(horsepower, i), data = Auto)\n",
    "    cv_error[i] <- cv.glm(Auto, glm_fit)$delta[1]\n",
    "}"
   ],
   "outputs": [],
   "metadata": {}
  },
  {
   "cell_type": "code",
   "execution_count": 25,
   "source": [
    "print(round(cv_error, 2))"
   ],
   "outputs": [
    {
     "output_type": "stream",
     "name": "stdout",
     "text": [
      " [1] 24.23 19.25 19.33 19.42 19.03 18.98 18.83 18.96 19.07 19.49\n"
     ]
    }
   ],
   "metadata": {}
  },
  {
   "cell_type": "markdown",
   "source": [
    "As in Figure 5.4, we see a sharp drop in the estimated test MSE between the linear and quadratic fits, but then no clear improvement from using higher-order polynomials.\n",
    "\n",
    "## 5.3.3 k-Fold Cross-Validation\n",
    "\n",
    "The `cv.glm()` function can also be used to implement $k$-fold CV. \n",
    "Below we use $k = 10$, a common choice for $k$, on the `Auto` data set. \n",
    "We once again set a random seed and initialize a vector in which we will store the CV errors corresponding to the polynomial fits of orders one to ten."
   ],
   "metadata": {}
  },
  {
   "cell_type": "code",
   "execution_count": 31,
   "source": [
    "set.seed(17)\n",
    "cv_error_10 <- numeric(length = 10)\n",
    "for (i in seq(10)) {\n",
    "    glm_fit <- glm(mpg ~ poly(horsepower, i), data = Auto)\n",
    "    cv_error_10[i] <- cv.glm(Auto, glm_fit, K = 10)$delta[1]\n",
    "}\n",
    "print(round(cv_error_10, 2))"
   ],
   "outputs": [
    {
     "output_type": "stream",
     "name": "stdout",
     "text": [
      " [1] 24.27 19.27 19.35 19.29 19.03 18.90 19.12 19.15 18.87 20.96\n"
     ]
    }
   ],
   "metadata": {}
  },
  {
   "cell_type": "markdown",
   "source": [
    "Notice that the computation time is shorter than that of LOOCV. \n",
    "(In principle, the computation time for LOOCV for a least squares linear model should be faster than for $k$-fold CV, due to the availability of the formula (5.2) for LOOCV; however, unfortunately the `cv.glm()` function does not make use of this formula.) \n",
    "We still see little evidence that using cubic or higher-order polynomial terms leads to lower test error than simply using a quadratic fit.\n",
    "\n",
    "**Note**\n",
    "\n",
    "We saw in Section 5.3.2 that the two numbers associated with `delta` are essentially the same when LOOCV is performed. \n",
    "When we instead perform $k$-fold CV, then the two numbers associated with `delta` differ slightly. \n",
    "The first is the standard $k$-fold CV estimate, as in (5.3). \n",
    "The second is a bias-corrected version. \n",
    "On this data set, the two estimates are very similar to each other.\n",
    "\n",
    "## 5.3.4 The Bootstrap\n",
    "\n",
    "We illustrate the use of the bootstrap in the simple example of Section 5.2, as well as on an example involving estimating the accuracy of the linear regression model on the `Auto` data set.\n",
    "\n",
    "\n",
    "**Estimating the Accuracy of a Statistic of Interest**\n",
    "\n",
    "One of the great advantages of the bootstrap approach is that it can be applied in almost all situations. \n",
    "No complicated mathematical calculations are required. \n",
    "Performing a bootstrap analysis in `R` entails only two steps. \n",
    "First, we must create a function that computes the statistic of interest. \n",
    "Second, we use the `boot()` function, which is part of the `boot` library, to perform the bootstrap by repeatedly sampling observations from the data set with replacement.\n",
    "\n",
    "The `Portfolio` data set in the `ISLR2` package is simulated data of 100 pairs of returns, generated in the fashion described in Section 5.2. \n",
    "To illustrate the use of the bootstrap on this data, we must first create a function, `alpha.fn()`, which takes as input the `(X, Y)` data as well as a vector indicating which observations should be used to estimate $\\alpha$. \n",
    "The function then outputs the estimate for $\\alpha$ based on the selected observations."
   ],
   "metadata": {}
  },
  {
   "cell_type": "code",
   "execution_count": 32,
   "source": [
    "alpha_fn <- function(data, index) {\n",
    "    X <- data$X[index]\n",
    "    Y <- data$Y[index]\n",
    "    alpha <- (var(Y) - cov(X, Y)) / (var(X) + var(Y) - 2 * cov(X, Y))\n",
    "    return(alpha)\n",
    "}"
   ],
   "outputs": [],
   "metadata": {}
  },
  {
   "cell_type": "markdown",
   "source": [
    "This function returns, or outputs, an estimate for $\\alpha$ based on applying (5.7) to the observations indexed by the argument index. \n",
    "For instance, the following command tells `R` to estimate $\\alpha$ using all 100 observations."
   ],
   "metadata": {}
  },
  {
   "cell_type": "code",
   "execution_count": 33,
   "source": [
    "alpha_fn(Portfolio, 1:100)"
   ],
   "outputs": [
    {
     "output_type": "display_data",
     "data": {
      "text/html": [
       "0.57583207459283"
      ],
      "text/latex": [
       "0.57583207459283"
      ],
      "text/markdown": [
       "0.57583207459283"
      ],
      "text/plain": [
       "[1] 0.5758321"
      ]
     },
     "metadata": {}
    }
   ],
   "metadata": {}
  },
  {
   "cell_type": "markdown",
   "source": [
    "The next command uses the `sample()` function to randomly select 100 observations from the range 1 to 100, with replacement. \n",
    "This is equivalent to constructing a new bootstrap data set and recomputing $\\hat{\\alpha}$ based on the new data set."
   ],
   "metadata": {}
  },
  {
   "cell_type": "code",
   "execution_count": 34,
   "source": [
    "set.seed(7)\n",
    "alpha_fn(Portfolio, sample(100, 100, replace = T))"
   ],
   "outputs": [
    {
     "output_type": "display_data",
     "data": {
      "text/html": [
       "0.538532591946793"
      ],
      "text/latex": [
       "0.538532591946793"
      ],
      "text/markdown": [
       "0.538532591946793"
      ],
      "text/plain": [
       "[1] 0.5385326"
      ]
     },
     "metadata": {}
    }
   ],
   "metadata": {}
  },
  {
   "cell_type": "markdown",
   "source": [
    "We can implement a bootstrap analysis by performing this command many times, recording all of the corresponding estimates for $\\alpha$, and computing the resulting standard deviation. \n",
    "However, the `boot()` function automates this approach. \n",
    "Below we produce $R = 1000$ bootstrap estimates for $\\alpha$."
   ],
   "metadata": {}
  },
  {
   "cell_type": "code",
   "execution_count": 39,
   "source": [
    "boot(Portfolio, alpha_fn, R = 1000)"
   ],
   "outputs": [
    {
     "output_type": "display_data",
     "data": {
      "text/plain": [
       "\n",
       "ORDINARY NONPARAMETRIC BOOTSTRAP\n",
       "\n",
       "\n",
       "Call:\n",
       "boot(data = Portfolio, statistic = alpha_fn, R = 1000)\n",
       "\n",
       "\n",
       "Bootstrap Statistics :\n",
       "     original       bias    std. error\n",
       "t1* 0.5758321 0.0007866293  0.08966698"
      ]
     },
     "metadata": {}
    }
   ],
   "metadata": {}
  },
  {
   "cell_type": "markdown",
   "source": [
    "The final output shows that using the original data, $\\hat{\\alpha} = 0.5758$, and that the bootstrap estimate for $\\text{SE}(\\hat{\\alpha})$ is 0.0897.\n",
    "\n",
    "**Estimating the Accuracy of a Linear Regression Model**\n",
    "\n",
    "The bootstrap approach can be used to assess the variability of the coefficient estimates and predictions from a statistical learning method. \n",
    "Here we use the bootstrap approach in order to assess the variability of the estimates for $\\beta_0$ and $\\beta_1$, the intercept and slope terms for the linear regression model that uses `horsepower` to predict `mpg` in the `Auto` data set. \n",
    "We will compare the estimates obtained using the bootstrap to those obtained using the formulas for $\\text{SE}(\\hat{\\beta}_0)$ and $\\text{SE}(\\hat{\\beta}_1)$ described in Section 3.1.2.\n",
    "\n",
    "We first create a simple function, `boot_fn()`, which takes in the `Auto` data set as well as a set of indices for the observations, and returns the intercept and slope estimates for the linear regression model. \n",
    "We then apply this function to the full set of 392 observations in order to compute the estimates of $\\beta_0$ and $\\beta_1$ on the entire data set using the usual linear regression coefficient estimate formulas from Chapter 3. "
   ],
   "metadata": {}
  },
  {
   "cell_type": "code",
   "execution_count": 40,
   "source": [
    "boot_fn <- function(data, index) {\n",
    "    betas <- coef(lm(mpg ~ horsepower, data = data, subset = index))\n",
    "    return(betas)\n",
    "}"
   ],
   "outputs": [],
   "metadata": {}
  },
  {
   "cell_type": "code",
   "execution_count": 41,
   "source": [
    "boot_fn(Auto, 1:392)"
   ],
   "outputs": [
    {
     "output_type": "display_data",
     "data": {
      "text/html": [
       "<style>\n",
       ".dl-inline {width: auto; margin:0; padding: 0}\n",
       ".dl-inline>dt, .dl-inline>dd {float: none; width: auto; display: inline-block}\n",
       ".dl-inline>dt::after {content: \":\\0020\"; padding-right: .5ex}\n",
       ".dl-inline>dt:not(:first-of-type) {padding-left: .5ex}\n",
       "</style><dl class=dl-inline><dt>(Intercept)</dt><dd>39.9358610211705</dd><dt>horsepower</dt><dd>-0.157844733353654</dd></dl>\n"
      ],
      "text/latex": [
       "\\begin{description*}\n",
       "\\item[(Intercept)] 39.9358610211705\n",
       "\\item[horsepower] -0.157844733353654\n",
       "\\end{description*}\n"
      ],
      "text/markdown": [
       "(Intercept)\n",
       ":   39.9358610211705horsepower\n",
       ":   -0.157844733353654\n",
       "\n"
      ],
      "text/plain": [
       "(Intercept)  horsepower \n",
       " 39.9358610  -0.1578447 "
      ]
     },
     "metadata": {}
    }
   ],
   "metadata": {}
  },
  {
   "cell_type": "markdown",
   "source": [
    "The `boot_fn()` function can also be used in order to create bootstrap estimates for the intercept and slope terms by randomly sampling from among the observations with replacement. \n",
    "Here we give two examples."
   ],
   "metadata": {}
  },
  {
   "cell_type": "code",
   "execution_count": 44,
   "source": [
    "set.seed(1)\n",
    "boot_fn(Auto, sample(392, 392, replace = T))\n",
    "boot_fn(Auto, sample(392, 392, replace = T))"
   ],
   "outputs": [
    {
     "output_type": "display_data",
     "data": {
      "text/html": [
       "<style>\n",
       ".dl-inline {width: auto; margin:0; padding: 0}\n",
       ".dl-inline>dt, .dl-inline>dd {float: none; width: auto; display: inline-block}\n",
       ".dl-inline>dt::after {content: \":\\0020\"; padding-right: .5ex}\n",
       ".dl-inline>dt:not(:first-of-type) {padding-left: .5ex}\n",
       "</style><dl class=dl-inline><dt>(Intercept)</dt><dd>40.3404516830189</dd><dt>horsepower</dt><dd>-0.163486837689938</dd></dl>\n"
      ],
      "text/latex": [
       "\\begin{description*}\n",
       "\\item[(Intercept)] 40.3404516830189\n",
       "\\item[horsepower] -0.163486837689938\n",
       "\\end{description*}\n"
      ],
      "text/markdown": [
       "(Intercept)\n",
       ":   40.3404516830189horsepower\n",
       ":   -0.163486837689938\n",
       "\n"
      ],
      "text/plain": [
       "(Intercept)  horsepower \n",
       " 40.3404517  -0.1634868 "
      ]
     },
     "metadata": {}
    },
    {
     "output_type": "display_data",
     "data": {
      "text/html": [
       "<style>\n",
       ".dl-inline {width: auto; margin:0; padding: 0}\n",
       ".dl-inline>dt, .dl-inline>dd {float: none; width: auto; display: inline-block}\n",
       ".dl-inline>dt::after {content: \":\\0020\"; padding-right: .5ex}\n",
       ".dl-inline>dt:not(:first-of-type) {padding-left: .5ex}\n",
       "</style><dl class=dl-inline><dt>(Intercept)</dt><dd>40.1186906449022</dd><dt>horsepower</dt><dd>-0.157706320543503</dd></dl>\n"
      ],
      "text/latex": [
       "\\begin{description*}\n",
       "\\item[(Intercept)] 40.1186906449022\n",
       "\\item[horsepower] -0.157706320543503\n",
       "\\end{description*}\n"
      ],
      "text/markdown": [
       "(Intercept)\n",
       ":   40.1186906449022horsepower\n",
       ":   -0.157706320543503\n",
       "\n"
      ],
      "text/plain": [
       "(Intercept)  horsepower \n",
       " 40.1186906  -0.1577063 "
      ]
     },
     "metadata": {}
    }
   ],
   "metadata": {}
  },
  {
   "cell_type": "markdown",
   "source": [
    "Next, we use the `boot()` function to compute the standard errors of 1000 bootstrap estimates for the intercept and slope terms."
   ],
   "metadata": {}
  },
  {
   "cell_type": "code",
   "execution_count": 45,
   "source": [
    "boot(Auto, boot_fn, 1000)"
   ],
   "outputs": [
    {
     "output_type": "display_data",
     "data": {
      "text/plain": [
       "\n",
       "ORDINARY NONPARAMETRIC BOOTSTRAP\n",
       "\n",
       "\n",
       "Call:\n",
       "boot(data = Auto, statistic = boot_fn, R = 1000)\n",
       "\n",
       "\n",
       "Bootstrap Statistics :\n",
       "      original        bias    std. error\n",
       "t1* 39.9358610  0.0544513229 0.841289790\n",
       "t2* -0.1578447 -0.0006170901 0.007343073"
      ]
     },
     "metadata": {}
    }
   ],
   "metadata": {}
  },
  {
   "cell_type": "markdown",
   "source": [
    "This indicates that the bootstrap estimate for $\\text{SE}(\\hat{\\beta}_0)$ is 0.84, and that the bootstrap estimate for $\\text{SE}(\\hat{\\beta}_1)$ is 0.0073. \n",
    "As discussed in Section 3.1.2, standard formulas can be used to compute the standard errors for the regression coefficients in a linear model. \n",
    "These can be obtained using the `summary()` function."
   ],
   "metadata": {}
  },
  {
   "cell_type": "code",
   "execution_count": 46,
   "source": [
    "summary(lm(mpg ~ horsepower, data = Auto))$coef"
   ],
   "outputs": [
    {
     "output_type": "display_data",
     "data": {
      "text/html": [
       "<table class=\"dataframe\">\n",
       "<caption>A matrix: 2 × 4 of type dbl</caption>\n",
       "<thead>\n",
       "\t<tr><th></th><th scope=col>Estimate</th><th scope=col>Std. Error</th><th scope=col>t value</th><th scope=col>Pr(&gt;|t|)</th></tr>\n",
       "</thead>\n",
       "<tbody>\n",
       "\t<tr><th scope=row>(Intercept)</th><td>39.9358610</td><td>0.717498656</td><td> 55.65984</td><td>1.220362e-187</td></tr>\n",
       "\t<tr><th scope=row>horsepower</th><td>-0.1578447</td><td>0.006445501</td><td>-24.48914</td><td> 7.031989e-81</td></tr>\n",
       "</tbody>\n",
       "</table>\n"
      ],
      "text/latex": [
       "A matrix: 2 × 4 of type dbl\n",
       "\\begin{tabular}{r|llll}\n",
       "  & Estimate & Std. Error & t value & Pr(>\\textbar{}t\\textbar{})\\\\\n",
       "\\hline\n",
       "\t(Intercept) & 39.9358610 & 0.717498656 &  55.65984 & 1.220362e-187\\\\\n",
       "\thorsepower & -0.1578447 & 0.006445501 & -24.48914 &  7.031989e-81\\\\\n",
       "\\end{tabular}\n"
      ],
      "text/markdown": [
       "\n",
       "A matrix: 2 × 4 of type dbl\n",
       "\n",
       "| <!--/--> | Estimate | Std. Error | t value | Pr(&gt;|t|) |\n",
       "|---|---|---|---|---|\n",
       "| (Intercept) | 39.9358610 | 0.717498656 |  55.65984 | 1.220362e-187 |\n",
       "| horsepower | -0.1578447 | 0.006445501 | -24.48914 |  7.031989e-81 |\n",
       "\n"
      ],
      "text/plain": [
       "            Estimate   Std. Error  t value   Pr(>|t|)     \n",
       "(Intercept) 39.9358610 0.717498656  55.65984 1.220362e-187\n",
       "horsepower  -0.1578447 0.006445501 -24.48914  7.031989e-81"
      ]
     },
     "metadata": {}
    }
   ],
   "metadata": {}
  },
  {
   "cell_type": "markdown",
   "source": [
    "**Remark**\n",
    "\n",
    "The standard error estimates for $\\hat{\\beta}_0$ and $\\hat{\\beta}_1$ obtained using the formulas from Section 3.1.2 are 0.717 for the intercept and 0.0064 for the slope. \n",
    "Interestingly, these are somewhat different from the estimates obtained using the bootstrap. \n",
    "Does this indicate a problem with the bootstrap? \n",
    "In fact, it suggests the opposite. \n",
    "Recall that the standard formulas given in Equation 3.8 on page 66 rely on certain assumptions. \n",
    "For example, they depend on the unknown parameter $\\sigma^2$, the noise variance. \n",
    "We then estimate $\\sigma^2$ using the RSS. \n",
    "Now although the formulas for the standard errors do not rely on the linear model being correct, the estimate for $\\sigma^2$ does. \n",
    "We see in Figure 3.8 on page 91 that there is a non-linear relationship in the data, and so the residuals from a linear fit will be inflated, and so will $\\sigma^2$. \n",
    "Secondly, the standard formulas assume (somewhat unrealistically) that the $x_i$ are fixed, and all the variability comes from the variation in the errors $\\epsilon_i$. \n",
    "**The bootstrap approach does not rely on any of these assumptions, and so it is likely giving a more accurate estimate of the standard errors of $\\hat{\\beta}_0$ and $\\hat{\\beta}_1$ than is the `summary()` function.**\n",
    "\n",
    "Below we compute the bootstrap standard error estimates and the standard linear regression estimates that result from fitting the quadratic model to the data. \n",
    "Since this model provides a good fit to the data (Figure 3.8), there is now a better correspondence between the bootstrap estimates and the standard estimates of $\\text{SE}(\\hat{\\beta}_0)$, $\\text{SE}(\\hat{\\beta}_1)$ and $\\text{SE}(\\hat{\\beta}_2)$."
   ],
   "metadata": {}
  },
  {
   "cell_type": "code",
   "execution_count": 48,
   "source": [
    "boot_fn_sq <- function(data, index) {\n",
    "    betas <- coef(lm(mpg ~ horsepower + I(horsepower^2), data = data, subset = index))\n",
    "    return(betas)\n",
    "}"
   ],
   "outputs": [],
   "metadata": {}
  },
  {
   "cell_type": "code",
   "execution_count": 49,
   "source": [
    "set.seed(1)\n",
    "boot(Auto, boot_fn_sq, 1000)"
   ],
   "outputs": [
    {
     "output_type": "display_data",
     "data": {
      "text/plain": [
       "\n",
       "ORDINARY NONPARAMETRIC BOOTSTRAP\n",
       "\n",
       "\n",
       "Call:\n",
       "boot(data = Auto, statistic = boot_fn_sq, R = 1000)\n",
       "\n",
       "\n",
       "Bootstrap Statistics :\n",
       "        original        bias     std. error\n",
       "t1* 56.900099702  3.511640e-02 2.0300222526\n",
       "t2* -0.466189630 -7.080834e-04 0.0324241984\n",
       "t3*  0.001230536  2.840324e-06 0.0001172164"
      ]
     },
     "metadata": {}
    }
   ],
   "metadata": {}
  },
  {
   "cell_type": "code",
   "execution_count": 50,
   "source": [
    "summary(lm(mpg ~ horsepower + I(horsepower^2), data = Auto))$coef"
   ],
   "outputs": [
    {
     "output_type": "display_data",
     "data": {
      "text/html": [
       "<table class=\"dataframe\">\n",
       "<caption>A matrix: 3 × 4 of type dbl</caption>\n",
       "<thead>\n",
       "\t<tr><th></th><th scope=col>Estimate</th><th scope=col>Std. Error</th><th scope=col>t value</th><th scope=col>Pr(&gt;|t|)</th></tr>\n",
       "</thead>\n",
       "<tbody>\n",
       "\t<tr><th scope=row>(Intercept)</th><td>56.900099702</td><td>1.8004268063</td><td> 31.60367</td><td>1.740911e-109</td></tr>\n",
       "\t<tr><th scope=row>horsepower</th><td>-0.466189630</td><td>0.0311246171</td><td>-14.97816</td><td> 2.289429e-40</td></tr>\n",
       "\t<tr><th scope=row>I(horsepower^2)</th><td> 0.001230536</td><td>0.0001220759</td><td> 10.08009</td><td> 2.196340e-21</td></tr>\n",
       "</tbody>\n",
       "</table>\n"
      ],
      "text/latex": [
       "A matrix: 3 × 4 of type dbl\n",
       "\\begin{tabular}{r|llll}\n",
       "  & Estimate & Std. Error & t value & Pr(>\\textbar{}t\\textbar{})\\\\\n",
       "\\hline\n",
       "\t(Intercept) & 56.900099702 & 1.8004268063 &  31.60367 & 1.740911e-109\\\\\n",
       "\thorsepower & -0.466189630 & 0.0311246171 & -14.97816 &  2.289429e-40\\\\\n",
       "\tI(horsepower\\textasciicircum{}2) &  0.001230536 & 0.0001220759 &  10.08009 &  2.196340e-21\\\\\n",
       "\\end{tabular}\n"
      ],
      "text/markdown": [
       "\n",
       "A matrix: 3 × 4 of type dbl\n",
       "\n",
       "| <!--/--> | Estimate | Std. Error | t value | Pr(&gt;|t|) |\n",
       "|---|---|---|---|---|\n",
       "| (Intercept) | 56.900099702 | 1.8004268063 |  31.60367 | 1.740911e-109 |\n",
       "| horsepower | -0.466189630 | 0.0311246171 | -14.97816 |  2.289429e-40 |\n",
       "| I(horsepower^2) |  0.001230536 | 0.0001220759 |  10.08009 |  2.196340e-21 |\n",
       "\n"
      ],
      "text/plain": [
       "                Estimate     Std. Error   t value   Pr(>|t|)     \n",
       "(Intercept)     56.900099702 1.8004268063  31.60367 1.740911e-109\n",
       "horsepower      -0.466189630 0.0311246171 -14.97816  2.289429e-40\n",
       "I(horsepower^2)  0.001230536 0.0001220759  10.08009  2.196340e-21"
      ]
     },
     "metadata": {}
    }
   ],
   "metadata": {}
  },
  {
   "cell_type": "code",
   "execution_count": null,
   "source": [],
   "outputs": [],
   "metadata": {}
  }
 ],
 "metadata": {
  "orig_nbformat": 4,
  "language_info": {
   "name": "R",
   "codemirror_mode": "r",
   "pygments_lexer": "r",
   "mimetype": "text/x-r-source",
   "file_extension": ".r",
   "version": "4.1.1"
  },
  "kernelspec": {
   "name": "ir",
   "display_name": "R",
   "language": "R"
  }
 },
 "nbformat": 4,
 "nbformat_minor": 2
}