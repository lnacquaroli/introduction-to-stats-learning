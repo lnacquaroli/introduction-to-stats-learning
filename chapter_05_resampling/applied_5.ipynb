{
 "cells": [
  {
   "cell_type": "markdown",
   "source": [
    "5. In Chapter 4, we used logistic regression to predict the probability of default using income and balance on the `Default` data set. \n",
    "We will now estimate the test error of this logistic regression model using the validation set approach. \n",
    "Do not forget to set a random seed before beginning your analysis."
   ],
   "metadata": {}
  },
  {
   "cell_type": "code",
   "execution_count": 15,
   "source": [
    "library(ISLR2)\n",
    "library(MASS)\n",
    "library(ggplot2)\n",
    "library(ggthemes)\n",
    "library(boot)\n",
    "library(skimr)\n",
    "library(caret)\n",
    "\n",
    "# Define a color cycle to use\n",
    "colors <- colorblind_pal()(8)"
   ],
   "outputs": [
    {
     "output_type": "stream",
     "name": "stderr",
     "text": [
      "Loading required package: lattice\n",
      "\n",
      "\n",
      "Attaching package: ‘lattice’\n",
      "\n",
      "\n",
      "The following object is masked from ‘package:boot’:\n",
      "\n",
      "    melanoma\n",
      "\n",
      "\n"
     ]
    }
   ],
   "metadata": {}
  },
  {
   "cell_type": "code",
   "execution_count": 2,
   "source": [
    "head(Default)"
   ],
   "outputs": [
    {
     "output_type": "display_data",
     "data": {
      "text/html": [
       "<table class=\"dataframe\">\n",
       "<caption>A data.frame: 6 × 4</caption>\n",
       "<thead>\n",
       "\t<tr><th></th><th scope=col>default</th><th scope=col>student</th><th scope=col>balance</th><th scope=col>income</th></tr>\n",
       "\t<tr><th></th><th scope=col>&lt;fct&gt;</th><th scope=col>&lt;fct&gt;</th><th scope=col>&lt;dbl&gt;</th><th scope=col>&lt;dbl&gt;</th></tr>\n",
       "</thead>\n",
       "<tbody>\n",
       "\t<tr><th scope=row>1</th><td>No</td><td>No </td><td> 729.5265</td><td>44361.625</td></tr>\n",
       "\t<tr><th scope=row>2</th><td>No</td><td>Yes</td><td> 817.1804</td><td>12106.135</td></tr>\n",
       "\t<tr><th scope=row>3</th><td>No</td><td>No </td><td>1073.5492</td><td>31767.139</td></tr>\n",
       "\t<tr><th scope=row>4</th><td>No</td><td>No </td><td> 529.2506</td><td>35704.494</td></tr>\n",
       "\t<tr><th scope=row>5</th><td>No</td><td>No </td><td> 785.6559</td><td>38463.496</td></tr>\n",
       "\t<tr><th scope=row>6</th><td>No</td><td>Yes</td><td> 919.5885</td><td> 7491.559</td></tr>\n",
       "</tbody>\n",
       "</table>\n"
      ],
      "text/latex": [
       "A data.frame: 6 × 4\n",
       "\\begin{tabular}{r|llll}\n",
       "  & default & student & balance & income\\\\\n",
       "  & <fct> & <fct> & <dbl> & <dbl>\\\\\n",
       "\\hline\n",
       "\t1 & No & No  &  729.5265 & 44361.625\\\\\n",
       "\t2 & No & Yes &  817.1804 & 12106.135\\\\\n",
       "\t3 & No & No  & 1073.5492 & 31767.139\\\\\n",
       "\t4 & No & No  &  529.2506 & 35704.494\\\\\n",
       "\t5 & No & No  &  785.6559 & 38463.496\\\\\n",
       "\t6 & No & Yes &  919.5885 &  7491.559\\\\\n",
       "\\end{tabular}\n"
      ],
      "text/markdown": [
       "\n",
       "A data.frame: 6 × 4\n",
       "\n",
       "| <!--/--> | default &lt;fct&gt; | student &lt;fct&gt; | balance &lt;dbl&gt; | income &lt;dbl&gt; |\n",
       "|---|---|---|---|---|\n",
       "| 1 | No | No  |  729.5265 | 44361.625 |\n",
       "| 2 | No | Yes |  817.1804 | 12106.135 |\n",
       "| 3 | No | No  | 1073.5492 | 31767.139 |\n",
       "| 4 | No | No  |  529.2506 | 35704.494 |\n",
       "| 5 | No | No  |  785.6559 | 38463.496 |\n",
       "| 6 | No | Yes |  919.5885 |  7491.559 |\n",
       "\n"
      ],
      "text/plain": [
       "  default student balance   income   \n",
       "1 No      No       729.5265 44361.625\n",
       "2 No      Yes      817.1804 12106.135\n",
       "3 No      No      1073.5492 31767.139\n",
       "4 No      No       529.2506 35704.494\n",
       "5 No      No       785.6559 38463.496\n",
       "6 No      Yes      919.5885  7491.559"
      ]
     },
     "metadata": {}
    }
   ],
   "metadata": {}
  },
  {
   "cell_type": "code",
   "execution_count": 3,
   "source": [
    "skim(Default)"
   ],
   "outputs": [
    {
     "output_type": "stream",
     "name": "stdout",
     "text": [
      "── Data Summary ────────────────────────\n",
      "                           Values \n",
      "Name                       Default\n",
      "Number of rows             10000  \n",
      "Number of columns          4      \n",
      "_______________________           \n",
      "Column type frequency:            \n",
      "  factor                   2      \n",
      "  numeric                  2      \n",
      "________________________          \n",
      "Group variables            None   \n",
      "\n",
      "── Variable type: factor ───────────────────────────────────────────────────────\n",
      "  skim_variable n_missing complete_rate ordered n_unique top_counts         \n",
      "1 default               0             1 FALSE          2 No: 9667, Yes: 333 \n",
      "2 student               0             1 FALSE          2 No: 7056, Yes: 2944\n",
      "\n",
      "── Variable type: numeric ──────────────────────────────────────────────────────\n",
      "  skim_variable n_missing complete_rate   mean     sd    p0    p25    p50    p75\n",
      "1 balance               0             1   835.   484.    0    482.   824.  1166.\n",
      "2 income                0             1 33517. 13337.  772. 21340. 34553. 43808.\n",
      "    p100 hist \n",
      "1  2654. ▆▇▅▁▁\n",
      "2 73554. ▂▇▇▅▁\n"
     ]
    }
   ],
   "metadata": {}
  },
  {
   "cell_type": "code",
   "execution_count": 4,
   "source": [
    "str(Default)"
   ],
   "outputs": [
    {
     "output_type": "stream",
     "name": "stdout",
     "text": [
      "'data.frame':\t10000 obs. of  4 variables:\n",
      " $ default: Factor w/ 2 levels \"No\",\"Yes\": 1 1 1 1 1 1 1 1 1 1 ...\n",
      " $ student: Factor w/ 2 levels \"No\",\"Yes\": 1 2 1 1 1 2 1 2 1 1 ...\n",
      " $ balance: num  730 817 1074 529 786 ...\n",
      " $ income : num  44362 12106 31767 35704 38463 ...\n"
     ]
    }
   ],
   "metadata": {}
  },
  {
   "cell_type": "markdown",
   "source": [
    "(a) Fit a logistic regression model that uses `income` and `balance` to predict `default`."
   ],
   "metadata": {}
  },
  {
   "cell_type": "code",
   "execution_count": 9,
   "source": [
    "contrasts(Default$default)"
   ],
   "outputs": [
    {
     "output_type": "display_data",
     "data": {
      "text/html": [
       "<table class=\"dataframe\">\n",
       "<caption>A matrix: 2 × 1 of type dbl</caption>\n",
       "<thead>\n",
       "\t<tr><th></th><th scope=col>Yes</th></tr>\n",
       "</thead>\n",
       "<tbody>\n",
       "\t<tr><th scope=row>No</th><td>0</td></tr>\n",
       "\t<tr><th scope=row>Yes</th><td>1</td></tr>\n",
       "</tbody>\n",
       "</table>\n"
      ],
      "text/latex": [
       "A matrix: 2 × 1 of type dbl\n",
       "\\begin{tabular}{r|l}\n",
       "  & Yes\\\\\n",
       "\\hline\n",
       "\tNo & 0\\\\\n",
       "\tYes & 1\\\\\n",
       "\\end{tabular}\n"
      ],
      "text/markdown": [
       "\n",
       "A matrix: 2 × 1 of type dbl\n",
       "\n",
       "| <!--/--> | Yes |\n",
       "|---|---|\n",
       "| No | 0 |\n",
       "| Yes | 1 |\n",
       "\n"
      ],
      "text/plain": [
       "    Yes\n",
       "No  0  \n",
       "Yes 1  "
      ]
     },
     "metadata": {}
    }
   ],
   "metadata": {}
  },
  {
   "cell_type": "code",
   "execution_count": 14,
   "source": [
    "levels(Default$default)"
   ],
   "outputs": [
    {
     "output_type": "display_data",
     "data": {
      "text/html": [
       "<style>\n",
       ".list-inline {list-style: none; margin:0; padding: 0}\n",
       ".list-inline>li {display: inline-block}\n",
       ".list-inline>li:not(:last-child)::after {content: \"\\00b7\"; padding: 0 .5ex}\n",
       "</style>\n",
       "<ol class=list-inline><li>'No'</li><li>'Yes'</li></ol>\n"
      ],
      "text/latex": [
       "\\begin{enumerate*}\n",
       "\\item 'No'\n",
       "\\item 'Yes'\n",
       "\\end{enumerate*}\n"
      ],
      "text/markdown": [
       "1. 'No'\n",
       "2. 'Yes'\n",
       "\n",
       "\n"
      ],
      "text/plain": [
       "[1] \"No\"  \"Yes\""
      ]
     },
     "metadata": {}
    }
   ],
   "metadata": {}
  },
  {
   "cell_type": "code",
   "execution_count": 7,
   "source": [
    "lr_fit <- glm(default ~ income + balance, data = Default, family = \"binomial\")"
   ],
   "outputs": [],
   "metadata": {}
  },
  {
   "cell_type": "code",
   "execution_count": 8,
   "source": [
    "summary(lr_fit)"
   ],
   "outputs": [
    {
     "output_type": "display_data",
     "data": {
      "text/plain": [
       "\n",
       "Call:\n",
       "glm(formula = default ~ income + balance, family = \"binomial\", \n",
       "    data = Default)\n",
       "\n",
       "Deviance Residuals: \n",
       "    Min       1Q   Median       3Q      Max  \n",
       "-2.4725  -0.1444  -0.0574  -0.0211   3.7245  \n",
       "\n",
       "Coefficients:\n",
       "              Estimate Std. Error z value Pr(>|z|)    \n",
       "(Intercept) -1.154e+01  4.348e-01 -26.545  < 2e-16 ***\n",
       "income       2.081e-05  4.985e-06   4.174 2.99e-05 ***\n",
       "balance      5.647e-03  2.274e-04  24.836  < 2e-16 ***\n",
       "---\n",
       "Signif. codes:  0 ‘***’ 0.001 ‘**’ 0.01 ‘*’ 0.05 ‘.’ 0.1 ‘ ’ 1\n",
       "\n",
       "(Dispersion parameter for binomial family taken to be 1)\n",
       "\n",
       "    Null deviance: 2920.6  on 9999  degrees of freedom\n",
       "Residual deviance: 1579.0  on 9997  degrees of freedom\n",
       "AIC: 1585\n",
       "\n",
       "Number of Fisher Scoring iterations: 8\n"
      ]
     },
     "metadata": {}
    }
   ],
   "metadata": {}
  },
  {
   "cell_type": "markdown",
   "source": [
    "(b) Using the validation set approach, estimate the test error of this model. \n",
    "In order to do this, you must perform the following steps:\n",
    "\n",
    "  i. Split the sample set into a training set and a validation set.\n",
    "\n",
    "  ii. Fit a multiple logistic regression model using only the training observations.\n",
    "  \n",
    "  iii. Obtain a prediction of default status for each individual in the validation set by computing the posterior probability of default for that individual, and classifying the individual to the default category if the posterior probability is greater than 0.5.\n",
    "  \n",
    "  iv. Compute the validation set error, which is the fraction of the observations in the validation set that are misclassified."
   ],
   "metadata": {}
  },
  {
   "cell_type": "code",
   "execution_count": 32,
   "source": [
    "set.seed(1)\n",
    "train_rows <- createDataPartition(Default$default, p = 0.8, list = F)\n",
    "X_train <- Default[train_rows, ]\n",
    "X_test <- Default[-train_rows, ]\n",
    "dim(X_train)\n",
    "dim(X_test)"
   ],
   "outputs": [
    {
     "output_type": "display_data",
     "data": {
      "text/html": [
       "<style>\n",
       ".list-inline {list-style: none; margin:0; padding: 0}\n",
       ".list-inline>li {display: inline-block}\n",
       ".list-inline>li:not(:last-child)::after {content: \"\\00b7\"; padding: 0 .5ex}\n",
       "</style>\n",
       "<ol class=list-inline><li>8001</li><li>4</li></ol>\n"
      ],
      "text/latex": [
       "\\begin{enumerate*}\n",
       "\\item 8001\n",
       "\\item 4\n",
       "\\end{enumerate*}\n"
      ],
      "text/markdown": [
       "1. 8001\n",
       "2. 4\n",
       "\n",
       "\n"
      ],
      "text/plain": [
       "[1] 8001    4"
      ]
     },
     "metadata": {}
    },
    {
     "output_type": "display_data",
     "data": {
      "text/html": [
       "<style>\n",
       ".list-inline {list-style: none; margin:0; padding: 0}\n",
       ".list-inline>li {display: inline-block}\n",
       ".list-inline>li:not(:last-child)::after {content: \"\\00b7\"; padding: 0 .5ex}\n",
       "</style>\n",
       "<ol class=list-inline><li>1999</li><li>4</li></ol>\n"
      ],
      "text/latex": [
       "\\begin{enumerate*}\n",
       "\\item 1999\n",
       "\\item 4\n",
       "\\end{enumerate*}\n"
      ],
      "text/markdown": [
       "1. 1999\n",
       "2. 4\n",
       "\n",
       "\n"
      ],
      "text/plain": [
       "[1] 1999    4"
      ]
     },
     "metadata": {}
    }
   ],
   "metadata": {}
  },
  {
   "cell_type": "code",
   "execution_count": 33,
   "source": [
    "lr_fit_2 <- glm(default ~ income + balance, data = X_train, family = \"binomial\")"
   ],
   "outputs": [],
   "metadata": {}
  },
  {
   "cell_type": "code",
   "execution_count": 34,
   "source": [
    "summary(lr_fit_2)"
   ],
   "outputs": [
    {
     "output_type": "display_data",
     "data": {
      "text/plain": [
       "\n",
       "Call:\n",
       "glm(formula = default ~ income + balance, family = \"binomial\", \n",
       "    data = X_train)\n",
       "\n",
       "Deviance Residuals: \n",
       "    Min       1Q   Median       3Q      Max  \n",
       "-2.4776  -0.1382  -0.0546  -0.0201   3.7460  \n",
       "\n",
       "Coefficients:\n",
       "              Estimate Std. Error z value Pr(>|z|)    \n",
       "(Intercept) -1.164e+01  4.914e-01 -23.688  < 2e-16 ***\n",
       "income       2.002e-05  5.611e-06   3.568 0.000359 ***\n",
       "balance      5.711e-03  2.561e-04  22.304  < 2e-16 ***\n",
       "---\n",
       "Signif. codes:  0 ‘***’ 0.001 ‘**’ 0.01 ‘*’ 0.05 ‘.’ 0.1 ‘ ’ 1\n",
       "\n",
       "(Dispersion parameter for binomial family taken to be 1)\n",
       "\n",
       "    Null deviance: 2340.6  on 8000  degrees of freedom\n",
       "Residual deviance: 1227.5  on 7998  degrees of freedom\n",
       "AIC: 1233.5\n",
       "\n",
       "Number of Fisher Scoring iterations: 8\n"
      ]
     },
     "metadata": {}
    }
   ],
   "metadata": {}
  },
  {
   "cell_type": "code",
   "execution_count": 97,
   "source": [
    "lr_train_probs <- predict(\n",
    "    lr_fit_2, X_train[, c(\"income\", \"balance\")], type = \"response\")\n",
    "lr_test_probs <- predict(\n",
    "    lr_fit_2, X_test[, c(\"income\", \"balance\")], type = \"response\"\n",
    ")"
   ],
   "outputs": [],
   "metadata": {}
  },
  {
   "cell_type": "code",
   "execution_count": 98,
   "source": [
    "lr_train_pred <- rep(\"No\", nrow(X_train))\n",
    "lr_test_pred <- rep(\"No\", nrow(X_test))\n",
    "\n",
    "lr_train_pred[lr_train_probs > 0.5] <- \"Yes\"\n",
    "lr_test_pred[lr_test_probs > 0.5] <- \"Yes\""
   ],
   "outputs": [],
   "metadata": {}
  },
  {
   "cell_type": "code",
   "execution_count": 99,
   "source": [
    "cat(\"Train accuracy: \", mean(lr_train_pred == X_train[, \"default\"]), \"\\n\")\n",
    "cat(\"Test accuracy: \", mean(lr_test_pred == X_test[, \"default\"]))"
   ],
   "outputs": [
    {
     "output_type": "stream",
     "name": "stdout",
     "text": [
      "Train accuracy:  0.9740032 \n",
      "Test accuracy:  0.9729865"
     ]
    }
   ],
   "metadata": {}
  },
  {
   "cell_type": "code",
   "execution_count": 100,
   "source": [
    "table(lr_test_pred, X_test[, \"default\"])"
   ],
   "outputs": [
    {
     "output_type": "display_data",
     "data": {
      "text/plain": [
       "            \n",
       "lr_test_pred   No  Yes\n",
       "         No  1930   51\n",
       "         Yes    3   15"
      ]
     },
     "metadata": {}
    }
   ],
   "metadata": {}
  },
  {
   "cell_type": "code",
   "execution_count": 101,
   "source": [
    "cat(\"Validation set error: \", (51 + 3) / (1930 + 51 + 3 + 15), \"\\n\")\n",
    "cat(\"Validation set error: \", 1.0 - mean(lr_test_pred == X_test[, \"default\"]))"
   ],
   "outputs": [
    {
     "output_type": "stream",
     "name": "stdout",
     "text": [
      "Validation set error:  0.02701351 \n",
      "Validation set error:  0.02701351"
     ]
    }
   ],
   "metadata": {}
  },
  {
   "cell_type": "markdown",
   "source": [
    "(c) Repeat the process in (b) three times, using three different splits of the observations into a training set and a validation set. Comment on the results obtained."
   ],
   "metadata": {}
  },
  {
   "cell_type": "code",
   "execution_count": 103,
   "source": [
    "fn <- function(df, target = \"default\", p = 0.8, seed = 1, return_list = FALSE) {\n",
    "\n",
    "    set.seed(seed)\n",
    "\n",
    "    train_rows <- createDataPartition(df[, target], p = p, list = return_list)\n",
    "    \n",
    "    X_train <- df[train_rows, ]\n",
    "    X_test <- df[-train_rows, ]\n",
    "    \n",
    "    fit <- glm(default ~ income + balance, data = X_train, family = \"binomial\")\n",
    "    \n",
    "    train_probs <- predict(\n",
    "        fit,\n",
    "        X_train[, c(\"income\", \"balance\")],\n",
    "        type = \"response\"\n",
    "    )\n",
    "    test_probs <- predict(\n",
    "        fit, \n",
    "        X_test[, c(\"income\", \"balance\")],\n",
    "        type = \"response\"\n",
    "    )\n",
    "\n",
    "    train_pred <- rep(\"No\", nrow(X_train))\n",
    "    test_pred <- rep(\"No\", nrow(X_test))\n",
    "    train_pred[train_probs > 0.5] <- \"Yes\"\n",
    "    test_pred[test_probs > 0.5] <- \"Yes\"\n",
    "\n",
    "    cat(\"Train accuracy: \", mean(train_pred == X_train[, target]), \"\\n\")\n",
    "    cat(\"Test accuracy: \", mean(test_pred == X_test[, target]), \"\\n\")\n",
    "\n",
    "    return(table(test_pred, X_test[, target]))\n",
    "}"
   ],
   "outputs": [],
   "metadata": {}
  },
  {
   "cell_type": "code",
   "execution_count": 105,
   "source": [
    "for (i in 1:3) {\n",
    "    cat(\"Validation set number: \", i, \"\\n\")\n",
    "    confusion_matrix <- fn(Default, seed = i)\n",
    "    print(confusion_matrix)\n",
    "    cat(\"\\n\\n\")\n",
    "}"
   ],
   "outputs": [
    {
     "output_type": "stream",
     "name": "stdout",
     "text": [
      "Validation set number:  1 \n",
      "Train accuracy:  0.9740032 \n",
      "Test accuracy:  0.9729865 \n",
      "         \n",
      "test_pred   No  Yes\n",
      "      No  1930   51\n",
      "      Yes    3   15\n",
      "\n",
      "\n",
      "Validation set number:  2 \n",
      "Train accuracy:  0.9737533 \n",
      "Test accuracy:  0.9734867 \n",
      "         \n",
      "test_pred   No  Yes\n",
      "      No  1923   43\n",
      "      Yes   10   23\n",
      "\n",
      "\n",
      "Validation set number:  3 \n",
      "Train accuracy:  0.9737533 \n",
      "Test accuracy:  0.9734867 \n",
      "         \n",
      "test_pred   No  Yes\n",
      "      No  1926   46\n",
      "      Yes    7   20\n",
      "\n",
      "\n"
     ]
    }
   ],
   "metadata": {}
  },
  {
   "cell_type": "code",
   "execution_count": null,
   "source": [],
   "outputs": [],
   "metadata": {}
  }
 ],
 "metadata": {
  "orig_nbformat": 4,
  "language_info": {
   "name": "R",
   "codemirror_mode": "r",
   "pygments_lexer": "r",
   "mimetype": "text/x-r-source",
   "file_extension": ".r",
   "version": "4.1.1"
  },
  "kernelspec": {
   "name": "ir",
   "display_name": "R",
   "language": "R"
  }
 },
 "nbformat": 4,
 "nbformat_minor": 2
}