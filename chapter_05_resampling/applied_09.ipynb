{
 "cells": [
  {
   "cell_type": "markdown",
   "source": [
    "9. We will now consider the `Boston` housing data set, from the `ISLR2` library."
   ],
   "metadata": {}
  },
  {
   "cell_type": "code",
   "execution_count": 2,
   "source": [
    "library(ISLR2)\n",
    "library(MASS)\n",
    "library(ggplot2)\n",
    "library(ggthemes)\n",
    "library(boot)\n",
    "library(skimr)\n",
    "library(caret)\n",
    "\n",
    "# Define a color cycle to use\n",
    "colors <- colorblind_pal()(8)\n"
   ],
   "outputs": [
    {
     "output_type": "stream",
     "name": "stderr",
     "text": [
      "\n",
      "Attaching package: ‘MASS’\n",
      "\n",
      "\n",
      "The following object is masked from ‘package:ISLR2’:\n",
      "\n",
      "    Boston\n",
      "\n",
      "\n",
      "Loading required package: lattice\n",
      "\n",
      "\n",
      "Attaching package: ‘lattice’\n",
      "\n",
      "\n",
      "The following object is masked from ‘package:boot’:\n",
      "\n",
      "    melanoma\n",
      "\n",
      "\n"
     ]
    }
   ],
   "metadata": {}
  },
  {
   "cell_type": "code",
   "execution_count": 3,
   "source": [
    "head(Boston)"
   ],
   "outputs": [
    {
     "output_type": "display_data",
     "data": {
      "text/html": [
       "<table class=\"dataframe\">\n",
       "<caption>A data.frame: 6 × 14</caption>\n",
       "<thead>\n",
       "\t<tr><th></th><th scope=col>crim</th><th scope=col>zn</th><th scope=col>indus</th><th scope=col>chas</th><th scope=col>nox</th><th scope=col>rm</th><th scope=col>age</th><th scope=col>dis</th><th scope=col>rad</th><th scope=col>tax</th><th scope=col>ptratio</th><th scope=col>black</th><th scope=col>lstat</th><th scope=col>medv</th></tr>\n",
       "\t<tr><th></th><th scope=col>&lt;dbl&gt;</th><th scope=col>&lt;dbl&gt;</th><th scope=col>&lt;dbl&gt;</th><th scope=col>&lt;int&gt;</th><th scope=col>&lt;dbl&gt;</th><th scope=col>&lt;dbl&gt;</th><th scope=col>&lt;dbl&gt;</th><th scope=col>&lt;dbl&gt;</th><th scope=col>&lt;int&gt;</th><th scope=col>&lt;dbl&gt;</th><th scope=col>&lt;dbl&gt;</th><th scope=col>&lt;dbl&gt;</th><th scope=col>&lt;dbl&gt;</th><th scope=col>&lt;dbl&gt;</th></tr>\n",
       "</thead>\n",
       "<tbody>\n",
       "\t<tr><th scope=row>1</th><td>0.00632</td><td>18</td><td>2.31</td><td>0</td><td>0.538</td><td>6.575</td><td>65.2</td><td>4.0900</td><td>1</td><td>296</td><td>15.3</td><td>396.90</td><td>4.98</td><td>24.0</td></tr>\n",
       "\t<tr><th scope=row>2</th><td>0.02731</td><td> 0</td><td>7.07</td><td>0</td><td>0.469</td><td>6.421</td><td>78.9</td><td>4.9671</td><td>2</td><td>242</td><td>17.8</td><td>396.90</td><td>9.14</td><td>21.6</td></tr>\n",
       "\t<tr><th scope=row>3</th><td>0.02729</td><td> 0</td><td>7.07</td><td>0</td><td>0.469</td><td>7.185</td><td>61.1</td><td>4.9671</td><td>2</td><td>242</td><td>17.8</td><td>392.83</td><td>4.03</td><td>34.7</td></tr>\n",
       "\t<tr><th scope=row>4</th><td>0.03237</td><td> 0</td><td>2.18</td><td>0</td><td>0.458</td><td>6.998</td><td>45.8</td><td>6.0622</td><td>3</td><td>222</td><td>18.7</td><td>394.63</td><td>2.94</td><td>33.4</td></tr>\n",
       "\t<tr><th scope=row>5</th><td>0.06905</td><td> 0</td><td>2.18</td><td>0</td><td>0.458</td><td>7.147</td><td>54.2</td><td>6.0622</td><td>3</td><td>222</td><td>18.7</td><td>396.90</td><td>5.33</td><td>36.2</td></tr>\n",
       "\t<tr><th scope=row>6</th><td>0.02985</td><td> 0</td><td>2.18</td><td>0</td><td>0.458</td><td>6.430</td><td>58.7</td><td>6.0622</td><td>3</td><td>222</td><td>18.7</td><td>394.12</td><td>5.21</td><td>28.7</td></tr>\n",
       "</tbody>\n",
       "</table>\n"
      ],
      "text/latex": [
       "A data.frame: 6 × 14\n",
       "\\begin{tabular}{r|llllllllllllll}\n",
       "  & crim & zn & indus & chas & nox & rm & age & dis & rad & tax & ptratio & black & lstat & medv\\\\\n",
       "  & <dbl> & <dbl> & <dbl> & <int> & <dbl> & <dbl> & <dbl> & <dbl> & <int> & <dbl> & <dbl> & <dbl> & <dbl> & <dbl>\\\\\n",
       "\\hline\n",
       "\t1 & 0.00632 & 18 & 2.31 & 0 & 0.538 & 6.575 & 65.2 & 4.0900 & 1 & 296 & 15.3 & 396.90 & 4.98 & 24.0\\\\\n",
       "\t2 & 0.02731 &  0 & 7.07 & 0 & 0.469 & 6.421 & 78.9 & 4.9671 & 2 & 242 & 17.8 & 396.90 & 9.14 & 21.6\\\\\n",
       "\t3 & 0.02729 &  0 & 7.07 & 0 & 0.469 & 7.185 & 61.1 & 4.9671 & 2 & 242 & 17.8 & 392.83 & 4.03 & 34.7\\\\\n",
       "\t4 & 0.03237 &  0 & 2.18 & 0 & 0.458 & 6.998 & 45.8 & 6.0622 & 3 & 222 & 18.7 & 394.63 & 2.94 & 33.4\\\\\n",
       "\t5 & 0.06905 &  0 & 2.18 & 0 & 0.458 & 7.147 & 54.2 & 6.0622 & 3 & 222 & 18.7 & 396.90 & 5.33 & 36.2\\\\\n",
       "\t6 & 0.02985 &  0 & 2.18 & 0 & 0.458 & 6.430 & 58.7 & 6.0622 & 3 & 222 & 18.7 & 394.12 & 5.21 & 28.7\\\\\n",
       "\\end{tabular}\n"
      ],
      "text/markdown": [
       "\n",
       "A data.frame: 6 × 14\n",
       "\n",
       "| <!--/--> | crim &lt;dbl&gt; | zn &lt;dbl&gt; | indus &lt;dbl&gt; | chas &lt;int&gt; | nox &lt;dbl&gt; | rm &lt;dbl&gt; | age &lt;dbl&gt; | dis &lt;dbl&gt; | rad &lt;int&gt; | tax &lt;dbl&gt; | ptratio &lt;dbl&gt; | black &lt;dbl&gt; | lstat &lt;dbl&gt; | medv &lt;dbl&gt; |\n",
       "|---|---|---|---|---|---|---|---|---|---|---|---|---|---|---|\n",
       "| 1 | 0.00632 | 18 | 2.31 | 0 | 0.538 | 6.575 | 65.2 | 4.0900 | 1 | 296 | 15.3 | 396.90 | 4.98 | 24.0 |\n",
       "| 2 | 0.02731 |  0 | 7.07 | 0 | 0.469 | 6.421 | 78.9 | 4.9671 | 2 | 242 | 17.8 | 396.90 | 9.14 | 21.6 |\n",
       "| 3 | 0.02729 |  0 | 7.07 | 0 | 0.469 | 7.185 | 61.1 | 4.9671 | 2 | 242 | 17.8 | 392.83 | 4.03 | 34.7 |\n",
       "| 4 | 0.03237 |  0 | 2.18 | 0 | 0.458 | 6.998 | 45.8 | 6.0622 | 3 | 222 | 18.7 | 394.63 | 2.94 | 33.4 |\n",
       "| 5 | 0.06905 |  0 | 2.18 | 0 | 0.458 | 7.147 | 54.2 | 6.0622 | 3 | 222 | 18.7 | 396.90 | 5.33 | 36.2 |\n",
       "| 6 | 0.02985 |  0 | 2.18 | 0 | 0.458 | 6.430 | 58.7 | 6.0622 | 3 | 222 | 18.7 | 394.12 | 5.21 | 28.7 |\n",
       "\n"
      ],
      "text/plain": [
       "  crim    zn indus chas nox   rm    age  dis    rad tax ptratio black  lstat\n",
       "1 0.00632 18 2.31  0    0.538 6.575 65.2 4.0900 1   296 15.3    396.90 4.98 \n",
       "2 0.02731  0 7.07  0    0.469 6.421 78.9 4.9671 2   242 17.8    396.90 9.14 \n",
       "3 0.02729  0 7.07  0    0.469 7.185 61.1 4.9671 2   242 17.8    392.83 4.03 \n",
       "4 0.03237  0 2.18  0    0.458 6.998 45.8 6.0622 3   222 18.7    394.63 2.94 \n",
       "5 0.06905  0 2.18  0    0.458 7.147 54.2 6.0622 3   222 18.7    396.90 5.33 \n",
       "6 0.02985  0 2.18  0    0.458 6.430 58.7 6.0622 3   222 18.7    394.12 5.21 \n",
       "  medv\n",
       "1 24.0\n",
       "2 21.6\n",
       "3 34.7\n",
       "4 33.4\n",
       "5 36.2\n",
       "6 28.7"
      ]
     },
     "metadata": {}
    }
   ],
   "metadata": {}
  },
  {
   "cell_type": "code",
   "execution_count": 4,
   "source": [
    "skim(Boston)"
   ],
   "outputs": [
    {
     "output_type": "stream",
     "name": "stdout",
     "text": [
      "── Data Summary ────────────────────────\n",
      "                           Values\n",
      "Name                       Boston\n",
      "Number of rows             506   \n",
      "Number of columns          14    \n",
      "_______________________          \n",
      "Column type frequency:           \n",
      "  numeric                  14    \n",
      "________________________         \n",
      "Group variables            None  \n",
      "\n",
      "── Variable type: numeric ──────────────────────────────────────────────────────\n",
      "   skim_variable n_missing complete_rate     mean      sd        p0      p25\n",
      " 1 crim                  0             1   3.61     8.60    0.00632   0.0820\n",
      " 2 zn                    0             1  11.4     23.3     0         0     \n",
      " 3 indus                 0             1  11.1      6.86    0.46      5.19  \n",
      " 4 chas                  0             1   0.0692   0.254   0         0     \n",
      " 5 nox                   0             1   0.555    0.116   0.385     0.449 \n",
      " 6 rm                    0             1   6.28     0.703   3.56      5.89  \n",
      " 7 age                   0             1  68.6     28.1     2.9      45.0   \n",
      " 8 dis                   0             1   3.80     2.11    1.13      2.10  \n",
      " 9 rad                   0             1   9.55     8.71    1         4     \n",
      "10 tax                   0             1 408.     169.    187       279     \n",
      "11 ptratio               0             1  18.5      2.16   12.6      17.4   \n",
      "12 black                 0             1 357.      91.3     0.32    375.    \n",
      "13 lstat                 0             1  12.7      7.14    1.73      6.95  \n",
      "14 medv                  0             1  22.5      9.20    5        17.0   \n",
      "       p50     p75    p100 hist \n",
      " 1   0.257   3.68   89.0   ▇▁▁▁▁\n",
      " 2   0      12.5   100     ▇▁▁▁▁\n",
      " 3   9.69   18.1    27.7   ▇▆▁▇▁\n",
      " 4   0       0       1     ▇▁▁▁▁\n",
      " 5   0.538   0.624   0.871 ▇▇▆▅▁\n",
      " 6   6.21    6.62    8.78  ▁▂▇▂▁\n",
      " 7  77.5    94.1   100     ▂▂▂▃▇\n",
      " 8   3.21    5.19   12.1   ▇▅▂▁▁\n",
      " 9   5      24      24     ▇▂▁▁▃\n",
      "10 330     666     711     ▇▇▃▁▇\n",
      "11  19.0    20.2    22     ▁▃▅▅▇\n",
      "12 391.    396.    397.    ▁▁▁▁▇\n",
      "13  11.4    17.0    38.0   ▇▇▅▂▁\n",
      "14  21.2    25      50     ▂▇▅▁▁\n"
     ]
    }
   ],
   "metadata": {}
  },
  {
   "cell_type": "code",
   "execution_count": 5,
   "source": [
    "str(Boston)"
   ],
   "outputs": [
    {
     "output_type": "stream",
     "name": "stdout",
     "text": [
      "'data.frame':\t506 obs. of  14 variables:\n",
      " $ crim   : num  0.00632 0.02731 0.02729 0.03237 0.06905 ...\n",
      " $ zn     : num  18 0 0 0 0 0 12.5 12.5 12.5 12.5 ...\n",
      " $ indus  : num  2.31 7.07 7.07 2.18 2.18 2.18 7.87 7.87 7.87 7.87 ...\n",
      " $ chas   : int  0 0 0 0 0 0 0 0 0 0 ...\n",
      " $ nox    : num  0.538 0.469 0.469 0.458 0.458 0.458 0.524 0.524 0.524 0.524 ...\n",
      " $ rm     : num  6.58 6.42 7.18 7 7.15 ...\n",
      " $ age    : num  65.2 78.9 61.1 45.8 54.2 58.7 66.6 96.1 100 85.9 ...\n",
      " $ dis    : num  4.09 4.97 4.97 6.06 6.06 ...\n",
      " $ rad    : int  1 2 2 3 3 3 5 5 5 5 ...\n",
      " $ tax    : num  296 242 242 222 222 222 311 311 311 311 ...\n",
      " $ ptratio: num  15.3 17.8 17.8 18.7 18.7 18.7 15.2 15.2 15.2 15.2 ...\n",
      " $ black  : num  397 397 393 395 397 ...\n",
      " $ lstat  : num  4.98 9.14 4.03 2.94 5.33 ...\n",
      " $ medv   : num  24 21.6 34.7 33.4 36.2 28.7 22.9 27.1 16.5 18.9 ...\n"
     ]
    }
   ],
   "metadata": {}
  },
  {
   "cell_type": "markdown",
   "source": [
    "(a) Based on this data set, provide an estimate for the population mean of `medv`. Call this estimate $\\hat{\\mu}$."
   ],
   "metadata": {}
  },
  {
   "cell_type": "code",
   "execution_count": 6,
   "source": [
    "mu_hat <- mean(Boston$medv)\n",
    "mu_hat"
   ],
   "outputs": [
    {
     "output_type": "display_data",
     "data": {
      "text/html": [
       "22.5328063241107"
      ],
      "text/latex": [
       "22.5328063241107"
      ],
      "text/markdown": [
       "22.5328063241107"
      ],
      "text/plain": [
       "[1] 22.53281"
      ]
     },
     "metadata": {}
    }
   ],
   "metadata": {}
  },
  {
   "cell_type": "markdown",
   "source": [
    "(b) Provide an estimate of the standard error of $\\hat{\\mu}$. Interpret this result.\n",
    "Hint: We can compute the standard error of the sample mean by dividing the sample standard deviation by the square root of the number of observations."
   ],
   "metadata": {}
  },
  {
   "cell_type": "code",
   "execution_count": 7,
   "source": [
    "se <- sd(Boston$medv) / sqrt(nrow(Boston))\n",
    "se"
   ],
   "outputs": [
    {
     "output_type": "display_data",
     "data": {
      "text/html": [
       "0.408861147497535"
      ],
      "text/latex": [
       "0.408861147497535"
      ],
      "text/markdown": [
       "0.408861147497535"
      ],
      "text/plain": [
       "[1] 0.4088611"
      ]
     },
     "metadata": {}
    }
   ],
   "metadata": {}
  },
  {
   "cell_type": "markdown",
   "source": [
    "The standard error of the mean is a measure of the dispersion of sample means around the population mean.\n",
    "In other words, how much it deviates the sample mean from the actual value."
   ],
   "metadata": {}
  },
  {
   "cell_type": "markdown",
   "source": [
    "(c) Now estimate the standard error of $\\hat{\\mu}$ using the bootstrap. \n",
    "How does this compare to your answer from (b)?"
   ],
   "metadata": {}
  },
  {
   "cell_type": "code",
   "execution_count": 8,
   "source": [
    "boot_mean <- function(df, index) {\n",
    "    mu <- mean(df$medv[index])\n",
    "    return(mu)\n",
    "}"
   ],
   "outputs": [],
   "metadata": {}
  },
  {
   "cell_type": "code",
   "execution_count": 9,
   "source": [
    "boot(Boston, boot_mean, 1000)"
   ],
   "outputs": [
    {
     "output_type": "display_data",
     "data": {
      "text/plain": [
       "\n",
       "ORDINARY NONPARAMETRIC BOOTSTRAP\n",
       "\n",
       "\n",
       "Call:\n",
       "boot(data = Boston, statistic = boot_mean, R = 1000)\n",
       "\n",
       "\n",
       "Bootstrap Statistics :\n",
       "    original      bias    std. error\n",
       "t1* 22.53281 0.006826877   0.4100195"
      ]
     },
     "metadata": {}
    }
   ],
   "metadata": {}
  },
  {
   "cell_type": "markdown",
   "source": [
    "(d) Based on your bootstrap estimate from (c), provide a 95% confidence interval for the mean of `medv`. \n",
    "Compare it to the results obtained using `t.test(Boston$medv)`.\n",
    "Hint: You can approximate a 95% confidence interval using the formula $[\\hat{\\mu} − 2\\cdot\\text{SE}(\\hat{\\mu}), \\hat{\\mu} + 2\\cdot\\text{SE}(\\hat{\\mu})]$."
   ],
   "metadata": {}
  },
  {
   "cell_type": "code",
   "execution_count": 11,
   "source": [
    "confidence_interval_95 <- mu_hat + c(-1, 1) * 2 * 0.3944739\n",
    "print(confidence_interval_95)"
   ],
   "outputs": [
    {
     "output_type": "stream",
     "name": "stdout",
     "text": [
      "[1] 21.74386 23.32175\n"
     ]
    }
   ],
   "metadata": {}
  },
  {
   "cell_type": "code",
   "execution_count": 12,
   "source": [
    "t.test(Boston$medv)"
   ],
   "outputs": [
    {
     "output_type": "display_data",
     "data": {
      "text/plain": [
       "\n",
       "\tOne Sample t-test\n",
       "\n",
       "data:  Boston$medv\n",
       "t = 55.111, df = 505, p-value < 2.2e-16\n",
       "alternative hypothesis: true mean is not equal to 0\n",
       "95 percent confidence interval:\n",
       " 21.72953 23.33608\n",
       "sample estimates:\n",
       "mean of x \n",
       " 22.53281 \n"
      ]
     },
     "metadata": {}
    }
   ],
   "metadata": {}
  },
  {
   "cell_type": "markdown",
   "source": [
    "Our estimate using the bootstrap method gives a slightly broader confidence interval than the $t$-test."
   ],
   "metadata": {}
  },
  {
   "cell_type": "markdown",
   "source": [
    "(e) Based on this data set, provide an estimate, $\\hat{\\mu}_{\\text{med}}$, for the median value of `medv` in the population."
   ],
   "metadata": {}
  },
  {
   "cell_type": "code",
   "execution_count": 13,
   "source": [
    "mu_hat_med <- median(Boston$medv)\n",
    "print(mu_hat_med)"
   ],
   "outputs": [
    {
     "output_type": "stream",
     "name": "stdout",
     "text": [
      "[1] 21.2\n"
     ]
    }
   ],
   "metadata": {}
  },
  {
   "cell_type": "markdown",
   "source": [
    "(f) We now would like to estimate the standard error of $\\hat{\\mu}_{\\text{med}}$.\n",
    "Unfortunately, there is no simple formula for computing the standard error of the median. \n",
    "Instead, estimate the standard error of the median using the bootstrap. Comment on your findings."
   ],
   "metadata": {}
  },
  {
   "cell_type": "code",
   "execution_count": 14,
   "source": [
    "boot_median <- function(df, index) {\n",
    "    mu_med <- median(df$medv[index])\n",
    "    return(mu_med)\n",
    "}"
   ],
   "outputs": [],
   "metadata": {}
  },
  {
   "cell_type": "code",
   "execution_count": 15,
   "source": [
    "boot(Boston, boot_median, 1000)"
   ],
   "outputs": [
    {
     "output_type": "display_data",
     "data": {
      "text/plain": [
       "\n",
       "ORDINARY NONPARAMETRIC BOOTSTRAP\n",
       "\n",
       "\n",
       "Call:\n",
       "boot(data = Boston, statistic = boot_median, R = 1000)\n",
       "\n",
       "\n",
       "Bootstrap Statistics :\n",
       "    original  bias    std. error\n",
       "t1*     21.2 -0.0325   0.3717081"
      ]
     },
     "metadata": {}
    }
   ],
   "metadata": {}
  },
  {
   "cell_type": "markdown",
   "source": [
    "The median obtained using the bootstrap method is 21.2, the same as the formula.\n",
    "The standard error of the median from the bootstrap is 0.371.\n",
    "Seems like a powerful method to estimate standard errors for statistics for which there are no explicit equations."
   ],
   "metadata": {}
  },
  {
   "cell_type": "markdown",
   "source": [
    "(g) Based on this data set, provide an estimate for the tenth percentile of `medv` in `Boston` census tracts. \n",
    "Call this quantity $\\hat{\\mu}_{0.1}$. (You can use the `quantile()` function.)"
   ],
   "metadata": {}
  },
  {
   "cell_type": "code",
   "execution_count": 19,
   "source": [
    "quantile(Boston$medv, probs = 0.1)"
   ],
   "outputs": [
    {
     "output_type": "display_data",
     "data": {
      "text/html": [
       "<strong>10%:</strong> 12.75"
      ],
      "text/latex": [
       "\\textbf{10\\textbackslash{}\\%:} 12.75"
      ],
      "text/markdown": [
       "**10%:** 12.75"
      ],
      "text/plain": [
       "  10% \n",
       "12.75 "
      ]
     },
     "metadata": {}
    }
   ],
   "metadata": {}
  },
  {
   "cell_type": "markdown",
   "source": [
    "(h) Use the bootstrap to estimate the standard error of $\\hat{\\mu}_{0.1}$. Comment on your findings."
   ],
   "metadata": {}
  },
  {
   "cell_type": "code",
   "execution_count": 21,
   "source": [
    "boot_quantile <- function(df, index) {\n",
    "    mu_q <- quantile(df$medv[index], probs = 0.1)\n",
    "    return(mu_q)\n",
    "}"
   ],
   "outputs": [],
   "metadata": {}
  },
  {
   "cell_type": "code",
   "execution_count": 22,
   "source": [
    "boot(Boston, boot_quantile, 1000)"
   ],
   "outputs": [
    {
     "output_type": "display_data",
     "data": {
      "text/plain": [
       "\n",
       "ORDINARY NONPARAMETRIC BOOTSTRAP\n",
       "\n",
       "\n",
       "Call:\n",
       "boot(data = Boston, statistic = boot_quantile, R = 1000)\n",
       "\n",
       "\n",
       "Bootstrap Statistics :\n",
       "    original  bias    std. error\n",
       "t1*    12.75  0.0149   0.5010829"
      ]
     },
     "metadata": {}
    }
   ],
   "metadata": {}
  },
  {
   "cell_type": "code",
   "execution_count": null,
   "source": [],
   "outputs": [],
   "metadata": {}
  }
 ],
 "metadata": {
  "orig_nbformat": 4,
  "language_info": {
   "name": "R",
   "codemirror_mode": "r",
   "pygments_lexer": "r",
   "mimetype": "text/x-r-source",
   "file_extension": ".r",
   "version": "4.1.1"
  },
  "kernelspec": {
   "name": "ir",
   "display_name": "R",
   "language": "R"
  }
 },
 "nbformat": 4,
 "nbformat_minor": 2
}